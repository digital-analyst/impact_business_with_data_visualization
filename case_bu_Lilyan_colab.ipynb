{
 "cells": [
  {
   "cell_type": "code",
   "execution_count": null,
   "id": "d8d6847d",
   "metadata": {},
   "outputs": [],
   "source": [
    "%matplotlib notebook\n",
    "\n",
    "import matplotlib.pyplot as plt\n"
   ]
  },
  {
   "cell_type": "code",
   "execution_count": null,
   "id": "a87c12b3",
   "metadata": {},
   "outputs": [],
   "source": [
    "volume=[100,120,200,50,250,100]\n",
    "gpm=[12,11.5,10.6,10,7,3]\n",
    "gp_per_unit=[2000,1850,1720,1700,1400,800]\n",
    "year=[2017,2018,2019,2020,2021,2022]"
   ]
  },
  {
   "cell_type": "code",
   "execution_count": null,
   "id": "fe2e172e",
   "metadata": {},
   "outputs": [],
   "source": [
    "# Create figure and axis #1\n",
    "fig, ax1 = plt.subplots(figsize=(10, 7))\n",
    "\n",
    "\n",
    "# plot bar chart on axis #1\n",
    "bars = ax1.bar(year, gp_per_unit, width=0.5, alpha=0.5, label=\"GP/Unit (in'000IDR)\", color=\"#008cc1\")\n",
    "\n",
    "ax1.set_ylim(0, 2010)\n",
    "ax1.legend(loc=(0.9,1), frameon=False)\n",
    "ax1.set_title('Type A', pad=10, fontsize=16, weight='bold')\n",
    "\n",
    "# direct label each bar with Y axis values\n",
    "for bar in bars:\n",
    "    height = bar.get_height()\n",
    "    ax1.text(bar.get_x() + bar.get_width()/2, bar.get_height() + 40, '{:,.0f}'.format(height), \n",
    "                 ha='center', color=\"#008cc1\", fontsize=10, weight='bold')\n",
    "\n",
    "labels = ax1.get_xticklabels()\n",
    "for label in labels:\n",
    "    label.set_fontsize(14)\n",
    "    label.set_fontweight('bold')\n",
    "    \n",
    "# set up the 2nd axis\n",
    "ax2 = ax1.twinx() \n",
    "# plot line chart on axis #2\n",
    "ax2.plot(year, volume,  \"--o\", color=\"blue\", markersize=8, alpha=0.4, label=\"Volume(in units)\")\n",
    "ax2.set_ylim(0, 600)\n",
    "ax2.legend(loc=(0.9,0.9), frameon=False)\n",
    "\n",
    "for index in range(len(year)):\n",
    "  #ax2.text(year[index]-0.3, volume[index], volume[index], size=10, color=\"blue\", ha='center', weight=\"bold\")\n",
    "  ax2.annotate(volume[index], xy =(year[index], volume[index]), ha='center', fontweight='bold',\n",
    "               xytext =(year[index], volume[index]-40), color='blue', arrowprops = dict(width=0.4, headwidth=5, headlength=3))\n",
    "\n",
    "\n",
    "# set up the 3rd axis\n",
    "ax3 = ax1.twinx()\n",
    "# Plot line chart on axis #3\n",
    "ax3.plot(year, gpm, \"--^\", color=\"green\", markersize=8, alpha=0.4, label=\"GPM\")\n",
    "ax3.set_ylim(0,14)\n",
    "ax3.legend(loc=(0.9,0.8), frameon=False)\n",
    "\n",
    "\n",
    "for index in range(len(year)):\n",
    "  #ax3.text(year[index]+0.35, gpm[index], '{:,.1f}%'.format(gpm[index]), size=10, color=\"green\", ha='center', weight=\"bold\")\n",
    "    ax3.annotate('{:,.1f}%'.format(gpm[index]), xy =(year[index], gpm[index]), xytext =(year[index], gpm[index]+0.5), \n",
    "                 color='green', arrowprops = dict(width=0.4, headwidth=5, headlength=3), ha='center',  fontweight='bold')\n",
    "\n",
    "# remove the frame of the chart\n",
    "for spine in ax1.spines.values():\n",
    "    spine.set_visible(False)# remove the frame of the chart\n",
    "# remove the frame of the chart\n",
    "for spine in ax2.spines.values():\n",
    "    spine.set_visible(False)# remove the frame of the chart\n",
    "# remove the frame of the chart\n",
    "for spine in ax3.spines.values():\n",
    "    spine.set_visible(False)# remove the frame of the chart\n",
    "    \n",
    "ax1.tick_params(left = False)\n",
    "ax1.tick_params(bottom = False)\n",
    "ax1.tick_params(labelleft = False)\n",
    "\n",
    "ax2.tick_params(labelright = False)\n",
    "ax2.tick_params(right = False)\n",
    "ax3.tick_params(labelright = False)\n",
    "ax3.tick_params(right = False)\n",
    "\n",
    "#plt.savefig('example.jpg')\n",
    "plt.show();"
   ]
  },
  {
   "cell_type": "code",
   "execution_count": null,
   "id": "94db9e7b",
   "metadata": {},
   "outputs": [],
   "source": [
    "#from IPython.display import Image\n",
    "#Image('example.jpg')"
   ]
  },
  {
   "cell_type": "code",
   "execution_count": null,
   "id": "a88b1fa5",
   "metadata": {},
   "outputs": [],
   "source": [
    "#from google.colab import files\n",
    "#files.download(\"test.png\")"
   ]
  }
 ],
 "metadata": {
  "kernelspec": {
   "display_name": "nb3812",
   "language": "python",
   "name": "nb3812"
  },
  "language_info": {
   "codemirror_mode": {
    "name": "ipython",
    "version": 3
   },
   "file_extension": ".py",
   "mimetype": "text/x-python",
   "name": "python",
   "nbconvert_exporter": "python",
   "pygments_lexer": "ipython3",
   "version": "3.8.12"
  }
 },
 "nbformat": 4,
 "nbformat_minor": 5
}
