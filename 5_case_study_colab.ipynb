{
 "cells": [
  {
   "cell_type": "markdown",
   "id": "77532f84",
   "metadata": {},
   "source": [
    "# Case Study berdasarkan Data Account Payment di Modul 2"
   ]
  },
  {
   "cell_type": "code",
   "execution_count": null,
   "id": "fa679690",
   "metadata": {},
   "outputs": [],
   "source": [
    "import pandas as pd\n",
    "import numpy as np\n",
    "import matplotlib.pyplot as plt\n",
    "import matplotlib.transforms as transforms\n",
    "import matplotlib.gridspec as gridspec\n",
    "from matplotlib.ticker import EngFormatter\n",
    "from matplotlib.ticker import FuncFormatter\n",
    "import statistics\n",
    "\n",
    "%matplotlib notebook"
   ]
  },
  {
   "cell_type": "code",
   "execution_count": null,
   "id": "816e160d",
   "metadata": {},
   "outputs": [],
   "source": [
    "# retrieve AP data used in Modul 2 - Lead Transformation by Mastering Data\n",
    "input = pd.read_csv('https://drive.google.com/uc?id=1tn7pP9Pj07MmlGjvPS3iiaShcxSUJyqa')\n",
    "input.head()"
   ]
  },
  {
   "cell_type": "code",
   "execution_count": null,
   "id": "3aa1fd4f",
   "metadata": {},
   "outputs": [],
   "source": [
    "input.info()"
   ]
  },
  {
   "cell_type": "code",
   "execution_count": null,
   "id": "b5c54beb",
   "metadata": {},
   "outputs": [],
   "source": [
    "# change 'DATETIME' column format from object to datetime64\n",
    "input['DATETIME'] =  pd.to_datetime(input['DATETIME'], format='%d/%m/%Y %H:%M')"
   ]
  },
  {
   "cell_type": "code",
   "execution_count": null,
   "id": "4bfca7a5",
   "metadata": {},
   "outputs": [],
   "source": [
    "# perform pivot like we do when we use EXCEL\n",
    "pivotOne = input.pivot(index=['INVOICE DOCUMENT','PLANT','amtDocDc'], columns='ACTIVITY', values='DATETIME')"
   ]
  },
  {
   "cell_type": "code",
   "execution_count": null,
   "id": "78dde4c8",
   "metadata": {},
   "outputs": [],
   "source": [
    "pivotOne.head()"
   ]
  },
  {
   "cell_type": "code",
   "execution_count": null,
   "id": "f4eaf6e7",
   "metadata": {},
   "outputs": [],
   "source": [
    "# add columns 'DURATION', 'START' and 'END'\n",
    "pivotOne['start'] = pivotOne.min(axis=1)\n",
    "pivotOne['end'] = pivotOne.max(axis=1)\n",
    "pivotOne['duration']= pivotOne['end'] - pivotOne['start']\n",
    "pivotOne['duration']=pivotOne['duration'].dt.days"
   ]
  },
  {
   "cell_type": "code",
   "execution_count": null,
   "id": "8b61d596",
   "metadata": {},
   "outputs": [],
   "source": [
    "pivotOne.head()"
   ]
  },
  {
   "cell_type": "code",
   "execution_count": null,
   "id": "96616b40",
   "metadata": {},
   "outputs": [],
   "source": [
    "pivotOne = pivotOne.reset_index()"
   ]
  },
  {
   "cell_type": "code",
   "execution_count": null,
   "id": "ea61bed0",
   "metadata": {},
   "outputs": [],
   "source": [
    "pivotOne['duration'].describe()"
   ]
  },
  {
   "cell_type": "code",
   "execution_count": null,
   "id": "09384eec",
   "metadata": {},
   "outputs": [],
   "source": [
    "# create histogram to depict the distribution of Time-to-Pay\n",
    "data=list(pivotOne['duration'])\n",
    "\n",
    "fig, ax = plt.subplots(figsize=(8, 5));\n",
    "ax.hist(data, bins = 100)\n",
    "ax.set_title('Distribution of Time-to-Pay', fontsize=14, weight='bold')\n",
    "ax.set_xlabel('Payment Time (days)', fontsize=12)\n",
    "ax.set_ylabel('Frequency', fontsize=12)\n",
    "ax.text(.8, .95, 'Mean={:.1f} \\nMax={:.0f} \\nMin={:.0f} \\nStd={:.1f}'.format(statistics.mean(data),\n",
    "            max(data),min(data),statistics.stdev(data)), transform=ax.transAxes, ha=\"left\", va=\"top\", fontsize=12)\n",
    "ax.axvline(statistics.mean(data), color='red', ls='--')\n",
    "mean=statistics.mean(data)\n",
    "trans = transforms.blended_transform_factory(ax.transData, ax.transAxes)\n",
    "ax.text(mean, -0.04, \"{:.1f}\".format(mean), color=\"red\", transform=trans, ha=\"center\", va=\"center\")\n",
    "plt.show();"
   ]
  },
  {
   "cell_type": "code",
   "execution_count": null,
   "id": "53138184",
   "metadata": {},
   "outputs": [],
   "source": [
    "# create histogram to depict the distribution of Time-to-Pay by Plant\n",
    "plant_names = list(pivotOne['PLANT'].unique())\n",
    "plant_names.sort()\n",
    "plant={}\n",
    "\n",
    "for name in plant_names:\n",
    "    plant[name]=list(pivotOne[pivotOne['PLANT']==name]['duration'])"
   ]
  },
  {
   "cell_type": "code",
   "execution_count": null,
   "id": "70ea797a",
   "metadata": {
    "scrolled": false
   },
   "outputs": [],
   "source": [
    "# create 3x3 grid of axis subplots\n",
    "fig, ((ax1, ax2, ax3), (ax4, ax5, ax6), (ax7, ax8, ax9)) = plt.subplots(3, 3, figsize=(8, 8))\n",
    "axs = [ax1,ax2,ax3,ax4,ax5,ax6,ax7,ax8,ax9]\n",
    "\n",
    "fig.suptitle('Distribution of Time-To-Pay by Plant', fontsize=14, weight='bold')\n",
    "fig.text(0.5, 0.04, 'Payment Time (days)', ha='center', fontsize=12)\n",
    "fig.text(0.04, 0.5, 'Frequency', va='center', rotation='vertical', fontsize=12)\n",
    "\n",
    "fig.tight_layout(h_pad=3, w_pad=2)\n",
    "plt.subplots_adjust(top = 0.9, bottom=0.1, left= 0.12, right=0.9)\n",
    "for n in range(0,len(axs)):\n",
    "    data=plant[plant_names[n]]\n",
    "    axs[n].hist(data, bins=100)\n",
    "    axs[n].set_title('Plant {}'.format(plant_names[n]))\n",
    "    axs[n].text(.5, .95, 'Mean={:.1f} \\nMax={:.0f} \\nMin={:.0f} \\nStd={:.1f}'.format(statistics.mean(data),\n",
    "            max(data),min(data),statistics.stdev(data)), transform=axs[n].transAxes, ha=\"left\", va=\"top\", fontsize=10)\n",
    "    axs[n].axvline(statistics.mean(data), color='red', ls='--')\n",
    "    axs[n].tick_params(axis='both', which='major', pad=7)\n",
    "    mean=statistics.mean(data)\n",
    "    trans = transforms.blended_transform_factory(axs[n].transData, axs[n].transAxes)\n",
    "    axs[n].text(mean, -0.05, \"{:.1f}\".format(mean), color=\"red\", transform=trans, ha=\"center\", va=\"center\", fontsize=10)\n"
   ]
  },
  {
   "cell_type": "code",
   "execution_count": null,
   "id": "61175a3d",
   "metadata": {},
   "outputs": [],
   "source": [
    "# create plot line of Time-to-Pay versus Invoice-Start-Date\n",
    "data=pivotOne[['start','duration']].sort_values(by='start')\n",
    "data={'start':list(data['start']), 'duration':data['duration']}\n",
    "\n",
    "fig, ax = plt.subplots(figsize=(10, 5));\n",
    "fig.tight_layout(h_pad=3, w_pad=2)\n",
    "plt.xticks(rotation=15)\n",
    "fig.subplots_adjust(top = 0.9, bottom=0.15, left= 0.12, right=0.9)\n",
    "ax.plot(data['start'], data['duration'],  '.-', markersize=3, linewidth=1)\n",
    "ax.axhline(statistics.mean(data['duration']), color='red', ls='--')\n",
    "ax.text(.8, .95, 'Mean={:.1f} \\nMax={:.0f} \\nMin={:.0f} \\nStd={:.1f}'.format(statistics.mean(data['duration']),\n",
    "            max(data['duration']),min(data['duration']),statistics.stdev(data['duration'])), transform=ax.transAxes, ha=\"left\", va=\"top\", fontsize=12)\n",
    "ax.set_title('Time-to-Pay vs Invoice-Start-Date', fontsize=14, weight='bold')\n",
    "ax.set_xlabel('Invoice Start Date', fontsize=12)\n",
    "ax.set_ylabel('Duration(days)', fontsize=12)\n",
    "trans = transforms.blended_transform_factory(ax.transAxes, ax.transData)\n",
    "mean=statistics.mean(data['duration'])\n",
    "ax.text(-0.005,mean, \"{:.0f}\".format(mean), color=\"red\", transform=trans, ha=\"right\", va=\"center\")\n",
    "\n",
    "plt.show();"
   ]
  },
  {
   "cell_type": "code",
   "execution_count": null,
   "id": "62b1ff58",
   "metadata": {},
   "outputs": [],
   "source": [
    "pivotOne.columns.values.tolist()"
   ]
  },
  {
   "cell_type": "code",
   "execution_count": null,
   "id": "9fd80b3c",
   "metadata": {},
   "outputs": [],
   "source": [
    "pivotOne"
   ]
  },
  {
   "cell_type": "code",
   "execution_count": null,
   "id": "bda89db7",
   "metadata": {},
   "outputs": [],
   "source": [
    "# example of how to use FuncFormatter\n",
    "corel = {'amount':list(pivotOne['amtDocDc']), 'duration':list(pivotOne['duration'])}\n",
    "meanx=statistics.mean(corel['amount'])\n",
    "meany=statistics.mean(corel['duration'])"
   ]
  },
  {
   "cell_type": "code",
   "execution_count": null,
   "id": "53864a7c",
   "metadata": {},
   "outputs": [],
   "source": [
    "# just a small example\n",
    "def miliar(x, pos):\n",
    "    'The two args are the value and tick position'\n",
    "    return '%.0f Miliar' % (x*1e-9)\n",
    "\n",
    "formatter = FuncFormatter(miliar)\n",
    "fig, ax = plt.subplots(figsize=(10, 5));\n",
    "ax.scatter(corel['amount'], corel['duration'], s=4)\n",
    "ax.xaxis.set_major_formatter(formatter)\n",
    "\n",
    "plt.show();"
   ]
  },
  {
   "cell_type": "code",
   "execution_count": null,
   "id": "a03e7b45",
   "metadata": {},
   "outputs": [],
   "source": [
    "# create scatter plot of Time-To-Pay vs Invoice Amount surrounded on the sides by histogram of Time-To-Pay and Invoice-Amount\n",
    "plt.figure(figsize=(10, 7))\n",
    "gspec = gridspec.GridSpec(5, 5)\n",
    "\n",
    "top_histogram = plt.subplot(gspec[0, 1:])\n",
    "side_histogram = plt.subplot(gspec[1:, 0])\n",
    "lower_right = plt.subplot(gspec[1:, 1:])\n",
    "\n",
    "plt.suptitle('Time-to-Pay vs Invoice-Amount', fontsize=14, weight='bold');\n",
    "\n",
    "lower_right.scatter(corel['amount'], corel['duration'], s=4);\n",
    "lower_right.xaxis.set_major_formatter(formatter)\n",
    "lower_right.tick_params(labelleft=False)\n",
    "lower_right.axhline(meany, color='red', ls='dotted')\n",
    "lower_right.axvline(meanx, color='red', ls='dotted')\n",
    "lower_right.set_xlabel('Invoice Amount (Rupiah)', fontsize=12);\n",
    "\n",
    "top_histogram.hist(corel['amount'], bins=100);\n",
    "top_histogram.xaxis.set_major_formatter(formatter)\n",
    "top_histogram.tick_params(left=True, labelbottom=False)\n",
    "top_histogram.set_ylabel('Frequency', fontsize=12);\n",
    "top_histogram.axvline(meanx, color='red', ls='dotted');\n",
    "trans_top = transforms.blended_transform_factory(top_histogram.transData, top_histogram.transAxes)\n",
    "top_histogram.text(meanx, -0.1, \"{:.1f} Juta\".format(meanx/1e6), color=\"red\", transform=trans_top, \n",
    "                   ha=\"center\", va=\"center\", fontsize=10);\n",
    "top_histogram.text(.8, .8, 'Mean={:.1f} Jt \\nMax={:.0f} Mil \\nMin={:.0f} \\nStd={:.1f} Mil'.format(statistics.mean(corel['amount'])/1e6,\n",
    "            max(corel['amount'])/1e9, min(corel['amount']),statistics.stdev(corel['amount'])/1e9), transform=top_histogram.transAxes, ha=\"left\", va=\"top\", fontsize=10);\n",
    "\n",
    "\n",
    "side_histogram.hist(corel['duration'], bins=100, orientation='horizontal')\n",
    "side_histogram.invert_xaxis()\n",
    "side_histogram.tick_params(right=True)\n",
    "side_histogram.set_ylabel('Time-to-Pay (days)', fontsize=12);\n",
    "side_histogram.set_xlabel('Frequency', fontsize=12);\n",
    "side_histogram.axhline(meany, color='red', ls='dotted');\n",
    "trans_side = transforms.blended_transform_factory(side_histogram.transAxes, side_histogram.transData)\n",
    "side_histogram.text(-0.2, meany, \"{:.1f}\".format(meany), color=\"red\", transform=trans_side, \n",
    "                    ha=\"center\", va=\"center\", fontsize=10);\n",
    "side_histogram.text(.3, .95, 'Mean={:.1f} \\nMax={:.0f} \\nMin={:.0f} \\nStd={:.1f}'.format(statistics.mean(corel['duration']),\n",
    "            max(corel['duration']), min(corel['duration']),statistics.stdev(corel['duration'])), \n",
    "            transform=side_histogram.transAxes, ha=\"left\", va=\"top\", fontsize=10);"
   ]
  },
  {
   "cell_type": "code",
   "execution_count": null,
   "id": "03448bee",
   "metadata": {},
   "outputs": [],
   "source": []
  }
 ],
 "metadata": {
  "kernelspec": {
   "display_name": "nb3812",
   "language": "python",
   "name": "nb3812"
  },
  "language_info": {
   "codemirror_mode": {
    "name": "ipython",
    "version": 3
   },
   "file_extension": ".py",
   "mimetype": "text/x-python",
   "name": "python",
   "nbconvert_exporter": "python",
   "pygments_lexer": "ipython3",
   "version": "3.8.12"
  }
 },
 "nbformat": 4,
 "nbformat_minor": 5
}
